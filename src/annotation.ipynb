{
 "cells": [
  {
   "cell_type": "code",
   "execution_count": 8,
   "metadata": {},
   "outputs": [],
   "source": [
    "from src.json_utils import *\n",
    "from src.config import DATA_DIR\n",
    "import pandas as pd\n"
   ]
  },
  {
   "cell_type": "code",
   "execution_count": 2,
   "metadata": {},
   "outputs": [
    {
     "name": "stdout",
     "output_type": "stream",
     "text": [
      "Reading ../data/dkpol_tweets.jsonl\n"
     ]
    }
   ],
   "source": [
    "data = read_jsonl('../data/dkpol_tweets.jsonl')"
   ]
  },
  {
   "cell_type": "code",
   "execution_count": 9,
   "metadata": {},
   "outputs": [],
   "source": [
    "df = pd.DataFrame(data)"
   ]
  },
  {
   "cell_type": "code",
   "execution_count": 11,
   "metadata": {},
   "outputs": [
    {
     "name": "stdout",
     "output_type": "stream",
     "text": [
      "<class 'pandas.core.frame.DataFrame'>\n",
      "RangeIndex: 68733 entries, 0 to 68732\n",
      "Data columns (total 10 columns):\n",
      " #   Column               Non-Null Count  Dtype \n",
      "---  ------               --------------  ----- \n",
      " 0   author_id            68733 non-null  object\n",
      " 1   created_at           68733 non-null  object\n",
      " 2   entities             68732 non-null  object\n",
      " 3   id                   68733 non-null  object\n",
      " 4   public_metrics       68733 non-null  object\n",
      " 5   text                 68733 non-null  object\n",
      " 6   in_reply_to_user_id  12169 non-null  object\n",
      " 7   referenced_tweets    25157 non-null  object\n",
      " 8   context_annotations  11194 non-null  object\n",
      " 9   geo                  3280 non-null   object\n",
      "dtypes: object(10)\n",
      "memory usage: 5.2+ MB\n"
     ]
    }
   ],
   "source": [
    "df.info()"
   ]
  },
  {
   "cell_type": "code",
   "execution_count": 60,
   "metadata": {},
   "outputs": [],
   "source": [
    "subset_together = df.sample(50)"
   ]
  },
  {
   "cell_type": "code",
   "execution_count": 61,
   "metadata": {},
   "outputs": [],
   "source": [
    "individual = df.sample(200)"
   ]
  },
  {
   "cell_type": "code",
   "execution_count": 62,
   "metadata": {},
   "outputs": [
    {
     "data": {
      "text/plain": [
       "[]"
      ]
     },
     "execution_count": 62,
     "metadata": {},
     "output_type": "execute_result"
    }
   ],
   "source": [
    "ids_sub = subset_together['id'].values.tolist()\n",
    "individual_sub = individual['id'].values.tolist()\n",
    "[value for value in ids_sub if value in individual_sub]"
   ]
  },
  {
   "cell_type": "code",
   "execution_count": 69,
   "metadata": {},
   "outputs": [],
   "source": [
    "a, i, j, n = subset_together.copy(), subset_together.copy(), subset_together.copy(), subset_together.copy()\n",
    "a['annotation'] = ['Anders'] * 50\n",
    "i['annotation'] = ['Ida'] * 50\n",
    "j['annotation'] = ['Johan'] * 50\n",
    "n['annotation'] = ['Nadia'] * 50"
   ]
  },
  {
   "cell_type": "code",
   "execution_count": 70,
   "metadata": {},
   "outputs": [],
   "source": [
    "names = ['Anders'] * 50 + ['Ida'] * 50 + ['Johan'] * 50 + ['Nadia'] * 50\n",
    "individual['annotation'] = names"
   ]
  },
  {
   "cell_type": "code",
   "execution_count": 71,
   "metadata": {},
   "outputs": [],
   "source": [
    "total = pd.concat([a, i, j, n, individual])\n",
    "total = total[['id', 'text', 'annotation']]\n",
    "out = total.to_dict('records')"
   ]
  },
  {
   "cell_type": "code",
   "execution_count": 72,
   "metadata": {},
   "outputs": [
    {
     "data": {
      "text/plain": [
       "400"
      ]
     },
     "execution_count": 72,
     "metadata": {},
     "output_type": "execute_result"
    }
   ],
   "source": [
    "len(out)"
   ]
  },
  {
   "cell_type": "code",
   "execution_count": 73,
   "metadata": {},
   "outputs": [],
   "source": [
    "# Open jsonl file to store data\n",
    "annotation_file = open('../data/annottion.jsonl', 'w')\n",
    "\n",
    "for tweet in out:\n",
    "    annotation_file.write(f'{json.dumps(tweet, sort_keys=True)}\\n')\n",
    "\n",
    "annotation_file.close()"
   ]
  },
  {
   "cell_type": "code",
   "execution_count": null,
   "metadata": {},
   "outputs": [],
   "source": []
  }
 ],
 "metadata": {
  "interpreter": {
   "hash": "3c853ab8957688145e3068fc7fd6952fd36d1232ae9679fde99dc8dd8752a3d3"
  },
  "kernelspec": {
   "display_name": "Python 3.8.9 64-bit ('ditw': pyenv)",
   "language": "python",
   "name": "python3"
  },
  "language_info": {
   "codemirror_mode": {
    "name": "ipython",
    "version": 3
   },
   "file_extension": ".py",
   "mimetype": "text/x-python",
   "name": "python",
   "nbconvert_exporter": "python",
   "pygments_lexer": "ipython3",
   "version": "3.8.9"
  },
  "orig_nbformat": 4
 },
 "nbformat": 4,
 "nbformat_minor": 2
}
