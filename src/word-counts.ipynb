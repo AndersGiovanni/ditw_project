{
 "cells": [
  {
   "cell_type": "markdown",
   "id": "blind-magazine",
   "metadata": {},
   "source": [
    "    Word Counts From Tweet Texts"
   ]
  },
  {
   "cell_type": "code",
   "execution_count": 1,
   "id": "essential-windsor",
   "metadata": {},
   "outputs": [],
   "source": [
    "from json_utils import read_json, read_jsonl\n",
    "from sklearn.feature_extraction.text import TfidfVectorizer\n",
    "from nltk.corpus import stopwords\n",
    "DA_STOP_WORDS = stopwords.words(\"danish\")\n",
    "from spacy.lang.da.stop_words import STOP_WORDS"
   ]
  },
  {
   "cell_type": "code",
   "execution_count": 2,
   "id": "immune-limitation",
   "metadata": {},
   "outputs": [],
   "source": [
    "STOP_WORDS = list(STOP_WORDS) + DA_STOP_WORDS"
   ]
  },
  {
   "cell_type": "code",
   "execution_count": 3,
   "id": "spectacular-trigger",
   "metadata": {},
   "outputs": [
    {
     "name": "stdout",
     "output_type": "stream",
     "text": [
      "Reading ../data/dkpol_tweets.jsonl\n"
     ]
    }
   ],
   "source": [
    "data = read_jsonl(\"../data/dkpol_tweets.jsonl\")\n",
    "#text = [tweet[\"text\"] for tweet in data]"
   ]
  },
  {
   "cell_type": "code",
   "execution_count": null,
   "id": "multiple-conversation",
   "metadata": {},
   "outputs": [],
   "source": [
    "tfidf_vectorizer = TfidfVectorizer(stop_words=STOP_WORDS, max_features=100)\n",
    "X = tfidf_vectorizer.fit_transform(data)"
   ]
  },
  {
   "cell_type": "code",
   "execution_count": null,
   "id": "technical-orientation",
   "metadata": {},
   "outputs": [],
   "source": [
    "tfidf_vectorizer.get_feature_names"
   ]
  },
  {
   "cell_type": "code",
   "execution_count": null,
   "id": "bibliographic-peeing",
   "metadata": {},
   "outputs": [],
   "source": [
    "sorted_counts = sorted(tfidf_vectorizer.vocabulary_.items(), key=lambda k: k[1], reverse=True)"
   ]
  },
  {
   "cell_type": "code",
   "execution_count": null,
   "id": "automated-accent",
   "metadata": {},
   "outputs": [],
   "source": [
    "sorted_counts"
   ]
  },
  {
   "cell_type": "code",
   "execution_count": null,
   "id": "vital-mouse",
   "metadata": {},
   "outputs": [],
   "source": []
  }
 ],
 "metadata": {
  "kernelspec": {
   "display_name": "flow",
   "language": "python",
   "name": "flow"
  },
  "language_info": {
   "codemirror_mode": {
    "name": "ipython",
    "version": 3
   },
   "file_extension": ".py",
   "mimetype": "text/x-python",
   "name": "python",
   "nbconvert_exporter": "python",
   "pygments_lexer": "ipython3",
   "version": "3.8.5"
  }
 },
 "nbformat": 4,
 "nbformat_minor": 5
}
