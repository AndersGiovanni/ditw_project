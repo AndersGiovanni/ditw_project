{
 "cells": [
  {
   "cell_type": "markdown",
   "id": "blind-magazine",
   "metadata": {},
   "source": [
    "    Word Counts From Tweet Texts"
   ]
  },
  {
   "cell_type": "code",
   "execution_count": 1,
   "id": "essential-windsor",
   "metadata": {},
   "outputs": [],
   "source": [
    "from json_utils import read_json, read_jsonl\n",
    "from sklearn.feature_extraction.text import TfidfVectorizer\n",
    "from nltk.corpus import stopwords\n",
    "DA_STOP_WORDS = stopwords.words(\"danish\")\n",
    "from spacy.lang.da.stop_words import STOP_WORDS"
   ]
  },
  {
   "cell_type": "code",
   "execution_count": 2,
   "id": "immune-limitation",
   "metadata": {},
   "outputs": [],
   "source": [
    "STOP_WORDS = list(STOP_WORDS) + DA_STOP_WORDS"
   ]
  },
  {
   "cell_type": "code",
   "execution_count": 5,
   "id": "spectacular-trigger",
   "metadata": {},
   "outputs": [
    {
     "name": "stdout",
     "output_type": "stream",
     "text": [
      "Reading ../data/dkpol_tweets.jsonl\n"
     ]
    }
   ],
   "source": [
    "data = read_jsonl(\"../data/dkpol_tweets.jsonl\")\n",
    "text = [tweet[\"text\"] for tweet in data]"
   ]
  },
  {
   "cell_type": "code",
   "execution_count": 6,
   "id": "multiple-conversation",
   "metadata": {},
   "outputs": [],
   "source": [
    "tfidf_vectorizer = TfidfVectorizer(stop_words=STOP_WORDS, max_features=100)\n",
    "X = tfidf_vectorizer.fit_transform(text)"
   ]
  },
  {
   "cell_type": "code",
   "execution_count": 7,
   "id": "technical-orientation",
   "metadata": {},
   "outputs": [
    {
     "data": {
      "text/plain": [
       "<bound method CountVectorizer.get_feature_names of TfidfVectorizer(max_features=100,\n",
       "                stop_words=['synes', 'derefter', 'bag', 'dermed', 'bliver',\n",
       "                            'været', 'jeg', 'indtil', 'således', 'gørende',\n",
       "                            'nemlig', 'hvori', 'bør', 'ses', 'til', 'eller',\n",
       "                            'flest', 'hvordan', 'blive', 'senere', 'har',\n",
       "                            'hendes', 'blandt', 'under', 'skal', 'ned', 'imens',\n",
       "                            'derfra', 'mindre', 'vore', ...])>"
      ]
     },
     "execution_count": 7,
     "metadata": {},
     "output_type": "execute_result"
    }
   ],
   "source": [
    "tfidf_vectorizer.get_feature_names"
   ]
  },
  {
   "cell_type": "code",
   "execution_count": 8,
   "id": "bibliographic-peeing",
   "metadata": {},
   "outputs": [],
   "source": [
    "sorted_counts = sorted(tfidf_vectorizer.vocabulary_.items(), key=lambda k: k[1], reverse=True)"
   ]
  },
  {
   "cell_type": "code",
   "execution_count": 9,
   "id": "automated-accent",
   "metadata": {},
   "outputs": [
    {
     "data": {
      "text/plain": [
       "[('år', 99),\n",
       " ('viser', 98),\n",
       " ('vigtigt', 97),\n",
       " ('venstredk', 96),\n",
       " ('unge', 95),\n",
       " ('uddpol', 94),\n",
       " ('tror', 93),\n",
       " ('to', 92),\n",
       " ('tid', 91),\n",
       " ('the', 90),\n",
       " ('tale', 89),\n",
       " ('tak', 88),\n",
       " ('tager', 87),\n",
       " ('tage', 86),\n",
       " ('sundpol', 85),\n",
       " ('står', 84),\n",
       " ('store', 83),\n",
       " ('stor', 82),\n",
       " ('spolitik', 81),\n",
       " ('skriver', 80),\n",
       " ('siger', 79),\n",
       " ('ser', 78),\n",
       " ('se', 77),\n",
       " ('ret', 76),\n",
       " ('regeringen', 75),\n",
       " ('regeringdk', 74),\n",
       " ('radikale', 73),\n",
       " ('populær', 72),\n",
       " ('politiske', 71),\n",
       " ('politisk', 70),\n",
       " ('politikere', 69),\n",
       " ('politik', 68),\n",
       " ('penge', 67),\n",
       " ('omstilling', 66),\n",
       " ('of', 65),\n",
       " ('nye', 64),\n",
       " ('nej', 63),\n",
       " ('mette', 62),\n",
       " ('mennesker', 61),\n",
       " ('mener', 60),\n",
       " ('læs', 59),\n",
       " ('langt', 58),\n",
       " ('kv21', 57),\n",
       " ('kr', 56),\n",
       " ('klima', 55),\n",
       " ('klar', 54),\n",
       " ('ja', 53),\n",
       " ('is', 52),\n",
       " ('in', 51),\n",
       " ('https', 50),\n",
       " ('helt', 49),\n",
       " ('hele', 48),\n",
       " ('går', 47),\n",
       " ('gå', 46),\n",
       " ('grønne', 45),\n",
       " ('grøn', 44),\n",
       " ('godt', 43),\n",
       " ('gode', 42),\n",
       " ('giver', 41),\n",
       " ('gerne', 40),\n",
       " ('gang', 39),\n",
       " ('får', 38),\n",
       " ('frem', 37),\n",
       " ('forslag', 36),\n",
       " ('folketinget', 35),\n",
       " ('folk', 34),\n",
       " ('fokus', 33),\n",
       " ('eudk', 32),\n",
       " ('eu', 31),\n",
       " ('enhedslisten', 30),\n",
       " ('dkøko', 29),\n",
       " ('dkpol', 28),\n",
       " ('dkmedier', 27),\n",
       " ('dkgreen', 26),\n",
       " ('dkbiz', 25),\n",
       " ('dk', 24),\n",
       " ('del', 23),\n",
       " ('danske', 22),\n",
       " ('dansk', 21),\n",
       " ('danmark', 20),\n",
       " ('dag', 19),\n",
       " ('covid19dk', 18),\n",
       " ('covid19', 17),\n",
       " ('co2', 16),\n",
       " ('co', 15),\n",
       " ('børn', 14),\n",
       " ('både', 13),\n",
       " ('brug', 12),\n",
       " ('blevet', 11),\n",
       " ('berlingske', 10),\n",
       " ('bedre', 9),\n",
       " ('barsel', 8),\n",
       " ('bare', 7),\n",
       " ('arbejdskraft', 6),\n",
       " ('arbejde', 5),\n",
       " ('and', 4),\n",
       " ('amp', 3),\n",
       " ('afghanistan', 2),\n",
       " ('10', 1),\n",
       " ('000', 0)]"
      ]
     },
     "execution_count": 9,
     "metadata": {},
     "output_type": "execute_result"
    }
   ],
   "source": [
    "sorted_counts"
   ]
  },
  {
   "cell_type": "code",
   "execution_count": null,
   "id": "vital-mouse",
   "metadata": {},
   "outputs": [],
   "source": []
  }
 ],
 "metadata": {
  "kernelspec": {
   "display_name": "flow",
   "language": "python",
   "name": "flow"
  },
  "language_info": {
   "codemirror_mode": {
    "name": "ipython",
    "version": 3
   },
   "file_extension": ".py",
   "mimetype": "text/x-python",
   "name": "python",
   "nbconvert_exporter": "python",
   "pygments_lexer": "ipython3",
   "version": "3.8.5"
  }
 },
 "nbformat": 4,
 "nbformat_minor": 5
}
