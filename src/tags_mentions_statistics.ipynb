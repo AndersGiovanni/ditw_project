{
 "cells": [
  {
   "cell_type": "code",
   "execution_count": 43,
   "id": "stock-noise",
   "metadata": {},
   "outputs": [],
   "source": [
    "from typing import Union\n",
    "from json_utils import read_json, read_jsonl\n",
    "import json\n",
    "import pandas as pd"
   ]
  },
  {
   "cell_type": "code",
   "execution_count": 22,
   "id": "absent-skiing",
   "metadata": {},
   "outputs": [
    {
     "name": "stdout",
     "output_type": "stream",
     "text": [
      "Reading ../data/dkpol_tweets.jsonl\n"
     ]
    }
   ],
   "source": [
    "data = read_jsonl(\"../data/dkpol_tweets.jsonl\")"
   ]
  },
  {
   "cell_type": "code",
   "execution_count": 24,
   "id": "enclosed-friendly",
   "metadata": {},
   "outputs": [],
   "source": [
    "data = data[:100]"
   ]
  },
  {
   "cell_type": "code",
   "execution_count": 48,
   "id": "danish-poultry",
   "metadata": {},
   "outputs": [
    {
     "data": {
      "text/plain": [
       "{'author_id': '2889293205',\n",
       " 'created_at': '2021-10-19T15:56:57.000Z',\n",
       " 'entities': {'hashtags': [{'end': 137, 'start': 131, 'tag': 'dkpol'}],\n",
       "  'urls': [{'description': 'Færdselsstyrelsen erkender problemer og kommer nu med klar opfordring.',\n",
       "    'display_url': 'dr.dk/nyheder/region…',\n",
       "    'end': 162,\n",
       "    'expanded_url': 'https://www.dr.dk/nyheder/regionale/oestjylland/koerelaerere-kaemper-med-bookingkaos-faa-elever-til-proeve-jeg-har',\n",
       "    'images': [{'height': 393,\n",
       "      'url': 'https://pbs.twimg.com/news_img/1450407295838396417/ehisThz6?format=jpg&name=orig',\n",
       "      'width': 699},\n",
       "     {'height': 150,\n",
       "      'url': 'https://pbs.twimg.com/news_img/1450407295838396417/ehisThz6?format=jpg&name=150x150',\n",
       "      'width': 150}],\n",
       "    'start': 139,\n",
       "    'status': 200,\n",
       "    'title': \"Kørelærere kæmper med bookingkaos for at få elever til prøve: 'Jeg har været 23 år i branchen og aldrig oplevet noget lignende'\",\n",
       "    'unwound_url': 'https://www.dr.dk/nyheder/regionale/oestjylland/koerelaerere-kaemper-med-bookingkaos-faa-elever-til-proeve-jeg-har',\n",
       "    'url': 'https://t.co/YfmAvrkwQu'}]},\n",
       " 'id': '1450491164214415365',\n",
       " 'public_metrics': {'like_count': 0,\n",
       "  'quote_count': 0,\n",
       "  'reply_count': 0,\n",
       "  'retweet_count': 0},\n",
       " 'text': 'Det er på tide køreprøver kommer i konkurrence og på private hænder. Ligesom med bilsyn. Væk med ventetider og styrket kvaliteten. #dkpol  https://t.co/YfmAvrkwQu'}"
      ]
     },
     "execution_count": 48,
     "metadata": {},
     "output_type": "execute_result"
    }
   ],
   "source": [
    "data[0]"
   ]
  },
  {
   "cell_type": "code",
   "execution_count": 42,
   "id": "equivalent-association",
   "metadata": {},
   "outputs": [],
   "source": [
    "def get_tweet_attr(tweet:dict, attr:str) -> Union[int, str, list]:\n",
    "    try:\n",
    "        count = tweet[attr]\n",
    "    except:\n",
    "        count = 0\n",
    "    return count"
   ]
  },
  {
   "cell_type": "code",
   "execution_count": 46,
   "id": "electrical-warning",
   "metadata": {},
   "outputs": [],
   "source": [
    "def get_reply_count(tweet:dict) -> Union[int, list]:\n",
    "    try:\n",
    "        count = tweet[\"reply_count\"]\n",
    "        return count\n",
    "    except:\n",
    "        return None\n",
    "    \n",
    "\n",
    "def get_quote_count(tweet:dict) -> int:\n",
    "    try:\n",
    "        count = tweet[\"quote_count\"]\n",
    "        return count\n",
    "    except:\n",
    "        return None\n",
    "    \n",
    "def get_entities(tweet: dict) -> list:\n",
    "    try:\n",
    "        entities = tweet[\"entities\"]\n",
    "    except:\n",
    "        pass"
   ]
  },
  {
   "cell_type": "code",
   "execution_count": 19,
   "id": "prerequisite-sally",
   "metadata": {},
   "outputs": [],
   "source": [
    "stats = []\n",
    "keys = [\"author_id\", \"created_at\", \"entities\", ]\n",
    "for tweet in data:\n",
    "    tweet_stats = {}\n",
    "    tweet_stats[\"author_id\"] = tweet[\"author_id\"]\n",
    "    reply_count = get_tweet_attr(tweet, \"reply_count\")\n",
    "    quote_count = get_tweet_attr(tweet, \"quote_count\")\n",
    "    for key in keys:\n",
    "        \n"
   ]
  },
  {
   "cell_type": "code",
   "execution_count": 27,
   "id": "dependent-opportunity",
   "metadata": {},
   "outputs": [
    {
     "data": {
      "text/plain": [
       "{'author_id': '2889293205',\n",
       " 'created_at': '2021-10-19T15:56:57.000Z',\n",
       " 'entities': {'hashtags': [{'end': 137, 'start': 131, 'tag': 'dkpol'}],\n",
       "  'urls': [{'description': 'Færdselsstyrelsen erkender problemer og kommer nu med klar opfordring.',\n",
       "    'display_url': 'dr.dk/nyheder/region…',\n",
       "    'end': 162,\n",
       "    'expanded_url': 'https://www.dr.dk/nyheder/regionale/oestjylland/koerelaerere-kaemper-med-bookingkaos-faa-elever-til-proeve-jeg-har',\n",
       "    'images': [{'height': 393,\n",
       "      'url': 'https://pbs.twimg.com/news_img/1450407295838396417/ehisThz6?format=jpg&name=orig',\n",
       "      'width': 699},\n",
       "     {'height': 150,\n",
       "      'url': 'https://pbs.twimg.com/news_img/1450407295838396417/ehisThz6?format=jpg&name=150x150',\n",
       "      'width': 150}],\n",
       "    'start': 139,\n",
       "    'status': 200,\n",
       "    'title': \"Kørelærere kæmper med bookingkaos for at få elever til prøve: 'Jeg har været 23 år i branchen og aldrig oplevet noget lignende'\",\n",
       "    'unwound_url': 'https://www.dr.dk/nyheder/regionale/oestjylland/koerelaerere-kaemper-med-bookingkaos-faa-elever-til-proeve-jeg-har',\n",
       "    'url': 'https://t.co/YfmAvrkwQu'}]},\n",
       " 'id': '1450491164214415365',\n",
       " 'public_metrics': {'like_count': 0,\n",
       "  'quote_count': 0,\n",
       "  'reply_count': 0,\n",
       "  'retweet_count': 0},\n",
       " 'text': 'Det er på tide køreprøver kommer i konkurrence og på private hænder. Ligesom med bilsyn. Væk med ventetider og styrket kvaliteten. #dkpol  https://t.co/YfmAvrkwQu'}"
      ]
     },
     "execution_count": 27,
     "metadata": {},
     "output_type": "execute_result"
    }
   ],
   "source": [
    "data[0]"
   ]
  },
  {
   "cell_type": "code",
   "execution_count": 49,
   "id": "liable-tablet",
   "metadata": {},
   "outputs": [],
   "source": [
    "def get_tweet_entity(entities, entity_key):\n",
    "    return [entity[entity_key].lower() for entity in entities]\n",
    "\n",
    "mentions_, urls, hashtags = [], [], []\n",
    "for tweet in data:\n",
    "    try:\n",
    "        tweet_entities = tweet[\"entities\"]\n",
    "    except KeyError:\n",
    "        pass\n",
    "    try:\n",
    "        mentions_.append(get_tweet_entity(tweet_entities[\"mentions\"], \"username\"))\n",
    "        mentions = [item for mention in mentions_ for item in mention]\n",
    "    except KeyError:\n",
    "        pass\n",
    "    try:\n",
    "        urls.append(tweet_entities[\"urls\"])\n",
    "    except KeyError:\n",
    "        pass\n",
    "    try:\n",
    "        hashtags.append(get_tweet_entity(tweet_entities[\"hashtags\"], \"tag\"))\n",
    "        tags = [item for tags in hashtags for item in tags]\n",
    "    except KeyError:\n",
    "        pass"
   ]
  },
  {
   "cell_type": "code",
   "execution_count": 50,
   "id": "appropriate-consortium",
   "metadata": {},
   "outputs": [],
   "source": [
    "from collections import Counter"
   ]
  },
  {
   "cell_type": "code",
   "execution_count": 51,
   "id": "apparent-letters",
   "metadata": {},
   "outputs": [],
   "source": [
    "counter = Counter()"
   ]
  },
  {
   "cell_type": "code",
   "execution_count": 52,
   "id": "literary-surveillance",
   "metadata": {},
   "outputs": [],
   "source": [
    "counter.update(tags)"
   ]
  },
  {
   "cell_type": "code",
   "execution_count": 53,
   "id": "isolated-hypothesis",
   "metadata": {},
   "outputs": [
    {
     "data": {
      "text/plain": [
       "100"
      ]
     },
     "execution_count": 53,
     "metadata": {},
     "output_type": "execute_result"
    }
   ],
   "source": [
    "counter.pop(\"dkpol\")"
   ]
  },
  {
   "cell_type": "code",
   "execution_count": 35,
   "id": "ideal-roman",
   "metadata": {},
   "outputs": [
    {
     "data": {
      "text/plain": [
       "[('dkmedier', 17),\n",
       " ('kv21', 9),\n",
       " ('kbhpol', 7),\n",
       " ('dkgreen', 7),\n",
       " ('eudk', 3),\n",
       " ('sundpol', 3),\n",
       " ('eupol', 2),\n",
       " ('dsa', 1),\n",
       " ('eu', 1),\n",
       " ('cop26', 1),\n",
       " ('lynetteholmen', 1),\n",
       " ('diskrimination', 1),\n",
       " ('trustthepressreleases', 1),\n",
       " ('coronadk', 1),\n",
       " ('covid19dk', 1),\n",
       " ('løbehjul', 1),\n",
       " ('valby', 1),\n",
       " ('grimt', 1),\n",
       " ('arbejde', 1),\n",
       " ('ruleoflaw', 1)]"
      ]
     },
     "execution_count": 35,
     "metadata": {},
     "output_type": "execute_result"
    }
   ],
   "source": [
    "sorted(counter.items(), key=lambda k: k[1], reverse=True)[:20]"
   ]
  },
  {
   "cell_type": "code",
   "execution_count": null,
   "id": "reduced-amber",
   "metadata": {},
   "outputs": [],
   "source": []
  }
 ],
 "metadata": {
  "kernelspec": {
   "display_name": "flow",
   "language": "python",
   "name": "flow"
  },
  "language_info": {
   "codemirror_mode": {
    "name": "ipython",
    "version": 3
   },
   "file_extension": ".py",
   "mimetype": "text/x-python",
   "name": "python",
   "nbconvert_exporter": "python",
   "pygments_lexer": "ipython3",
   "version": "3.8.5"
  }
 },
 "nbformat": 4,
 "nbformat_minor": 5
}
